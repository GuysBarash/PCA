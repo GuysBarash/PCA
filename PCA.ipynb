{
  "nbformat": 4,
  "nbformat_minor": 0,
  "metadata": {
    "colab": {
      "name": "PCA.ipynb",
      "provenance": [],
      "collapsed_sections": [],
      "toc_visible": true,
      "include_colab_link": true
    },
    "kernelspec": {
      "name": "python3",
      "display_name": "Python 3"
    }
  },
  "cells": [
    {
      "cell_type": "markdown",
      "metadata": {
        "id": "view-in-github",
        "colab_type": "text"
      },
      "source": [
        "<a href=\"https://colab.research.google.com/github/GuysBarash/PCA/blob/master/PCA.ipynb\" target=\"_parent\"><img src=\"https://colab.research.google.com/assets/colab-badge.svg\" alt=\"Open In Colab\"/></a>"
      ]
    },
    {
      "cell_type": "code",
      "metadata": {
        "id": "hI9mUFH_zsGJ",
        "colab_type": "code",
        "colab": {}
      },
      "source": [
        "import numpy as np\n",
        "import pandas as pd\n",
        "from sklearn.decomposition import PCA\n",
        "from matplotlib import pyplot\n",
        "from IPython.display import display\n",
        "import matplotlib.pyplot as plt\n",
        "%matplotlib inline\n"
      ],
      "execution_count": 1,
      "outputs": []
    },
    {
      "cell_type": "markdown",
      "metadata": {
        "id": "ycLiYmdgH-Xh",
        "colab_type": "text"
      },
      "source": [
        "# Data gathering"
      ]
    },
    {
      "cell_type": "markdown",
      "metadata": {
        "id": "F7iaCRpZ1SM1",
        "colab_type": "text"
      },
      "source": [
        "parameters for a random dataset. \n",
        "\n",
        "This dataset will have 10 features per sample and 3 different classes. \\\n",
        "\n",
        "\n",
        "---\n",
        "\n",
        "Each Class has a label between 0-2 and 10 features. \n",
        "\n",
        "Each feature, is a random number drawn from a certain normal distribution which is fixed for each class, and rounded to an integer between 0-10.\n",
        "\n",
        "1.   \"P_below\", label=0, normal dist = (below_center, below_std)\n",
        "2.   \"P_bingo\", label=1, normal dist = (3, bingo_std)\n",
        "3.   \"P_below\", label=2, normal dist = (above_center, above_std)\n",
        "\n"
      ]
    },
    {
      "cell_type": "markdown",
      "metadata": {
        "id": "Rd_T_et9MvsM",
        "colab_type": "text"
      },
      "source": [
        "class parameters"
      ]
    },
    {
      "cell_type": "code",
      "metadata": {
        "id": "7faT_ufRNYqr",
        "colab_type": "code",
        "colab": {}
      },
      "source": [
        "sample_per_class = 300\n",
        "features = 10\n"
      ],
      "execution_count": 2,
      "outputs": []
    },
    {
      "cell_type": "code",
      "metadata": {
        "id": "NWWETLFG_mE1",
        "colab_type": "code",
        "colab": {}
      },
      "source": [
        "above_center = 5  #@param {type:\"slider\", min:4, max:10, step:1}\n",
        "above_std = 1  #@param {type:\"slider\", min:0, max:5, step:1}\n"
      ],
      "execution_count": 3,
      "outputs": []
    },
    {
      "cell_type": "code",
      "metadata": {
        "id": "RMH4UGht_nm3",
        "colab_type": "code",
        "colab": {}
      },
      "source": [
        "bingo_center = 3\n",
        "bingo_std = 4  #@param {type:\"slider\", min:0, max:5, step:1}\n"
      ],
      "execution_count": 4,
      "outputs": []
    },
    {
      "cell_type": "code",
      "metadata": {
        "id": "blQiiDhO_ovN",
        "colab_type": "code",
        "colab": {}
      },
      "source": [
        "below_center = 0  #@param {type:\"slider\", min:0, max:2, step:1}\n",
        "below_std = 1  #@param {type:\"slider\", min:0, max:5, step:1}\n"
      ],
      "execution_count": 5,
      "outputs": []
    },
    {
      "cell_type": "markdown",
      "metadata": {
        "id": "xlTE_vZX_zY7",
        "colab_type": "text"
      },
      "source": [
        "data generation"
      ]
    },
    {
      "cell_type": "code",
      "metadata": {
        "id": "LZBANU7Rz8JF",
        "colab_type": "code",
        "colab": {}
      },
      "source": [
        "p_below = np.clip(np.random.normal(loc=below_center, scale=below_std, size=(sample_per_class, features)).astype(int),\n",
        "                  a_min=0, a_max=8)\n",
        "p_bingo = np.clip(np.random.normal(loc=bingo_center, scale=bingo_std, size=(sample_per_class, features)).astype(int),\n",
        "                  a_min=0, a_max=8)\n",
        "p_above = np.clip(np.random.normal(loc=above_center, scale=above_std, size=(sample_per_class, features)).astype(int),\n",
        "                  a_min=0, a_max=8)\n",
        "\n",
        "data_cols = [f'game_{idx + 1 }' for idx in range(features)]\n",
        "label_col = ['label']\n",
        "df = pd.DataFrame(index=range(sample_per_class * 3), columns=data_cols + label_col)\n",
        "df[data_cols] = np.concatenate([p_below, p_bingo, p_above])\n",
        "for idx_class in range(3):\n",
        "    start_idx = 300 * idx_class\n",
        "    end_idx = (300 * (idx_class + 1)) - 1\n",
        "    df.loc[start_idx:end_idx, label_col] = idx_class\n",
        "\n",
        "X = df[data_cols].to_numpy(dtype=float)\n",
        "y = df[label_col].to_numpy(dtype=float)\n"
      ],
      "execution_count": 6,
      "outputs": []
    },
    {
      "cell_type": "markdown",
      "metadata": {
        "id": "8wwVKOfQBiBz",
        "colab_type": "text"
      },
      "source": [
        "A print of the data - BEFORE the PCA"
      ]
    },
    {
      "cell_type": "code",
      "metadata": {
        "id": "fIRsc8_FBf-l",
        "colab_type": "code",
        "colab": {
          "base_uri": "https://localhost:8080/",
          "height": 406
        },
        "outputId": "32333b8d-57af-4869-b302-1d36843963e9"
      },
      "source": [
        "display(df)\n"
      ],
      "execution_count": 7,
      "outputs": [
        {
          "output_type": "display_data",
          "data": {
            "text/html": [
              "<div>\n",
              "<style scoped>\n",
              "    .dataframe tbody tr th:only-of-type {\n",
              "        vertical-align: middle;\n",
              "    }\n",
              "\n",
              "    .dataframe tbody tr th {\n",
              "        vertical-align: top;\n",
              "    }\n",
              "\n",
              "    .dataframe thead th {\n",
              "        text-align: right;\n",
              "    }\n",
              "</style>\n",
              "<table border=\"1\" class=\"dataframe\">\n",
              "  <thead>\n",
              "    <tr style=\"text-align: right;\">\n",
              "      <th></th>\n",
              "      <th>game_1</th>\n",
              "      <th>game_2</th>\n",
              "      <th>game_3</th>\n",
              "      <th>game_4</th>\n",
              "      <th>game_5</th>\n",
              "      <th>game_6</th>\n",
              "      <th>game_7</th>\n",
              "      <th>game_8</th>\n",
              "      <th>game_9</th>\n",
              "      <th>game_10</th>\n",
              "      <th>label</th>\n",
              "    </tr>\n",
              "  </thead>\n",
              "  <tbody>\n",
              "    <tr>\n",
              "      <th>0</th>\n",
              "      <td>0</td>\n",
              "      <td>0</td>\n",
              "      <td>0</td>\n",
              "      <td>0</td>\n",
              "      <td>0</td>\n",
              "      <td>0</td>\n",
              "      <td>0</td>\n",
              "      <td>0</td>\n",
              "      <td>1</td>\n",
              "      <td>0</td>\n",
              "      <td>0</td>\n",
              "    </tr>\n",
              "    <tr>\n",
              "      <th>1</th>\n",
              "      <td>0</td>\n",
              "      <td>1</td>\n",
              "      <td>0</td>\n",
              "      <td>0</td>\n",
              "      <td>0</td>\n",
              "      <td>0</td>\n",
              "      <td>1</td>\n",
              "      <td>0</td>\n",
              "      <td>0</td>\n",
              "      <td>0</td>\n",
              "      <td>0</td>\n",
              "    </tr>\n",
              "    <tr>\n",
              "      <th>2</th>\n",
              "      <td>3</td>\n",
              "      <td>1</td>\n",
              "      <td>0</td>\n",
              "      <td>0</td>\n",
              "      <td>0</td>\n",
              "      <td>0</td>\n",
              "      <td>0</td>\n",
              "      <td>0</td>\n",
              "      <td>1</td>\n",
              "      <td>0</td>\n",
              "      <td>0</td>\n",
              "    </tr>\n",
              "    <tr>\n",
              "      <th>3</th>\n",
              "      <td>0</td>\n",
              "      <td>1</td>\n",
              "      <td>0</td>\n",
              "      <td>0</td>\n",
              "      <td>0</td>\n",
              "      <td>0</td>\n",
              "      <td>0</td>\n",
              "      <td>0</td>\n",
              "      <td>0</td>\n",
              "      <td>0</td>\n",
              "      <td>0</td>\n",
              "    </tr>\n",
              "    <tr>\n",
              "      <th>4</th>\n",
              "      <td>0</td>\n",
              "      <td>1</td>\n",
              "      <td>0</td>\n",
              "      <td>1</td>\n",
              "      <td>0</td>\n",
              "      <td>0</td>\n",
              "      <td>0</td>\n",
              "      <td>0</td>\n",
              "      <td>0</td>\n",
              "      <td>1</td>\n",
              "      <td>0</td>\n",
              "    </tr>\n",
              "    <tr>\n",
              "      <th>...</th>\n",
              "      <td>...</td>\n",
              "      <td>...</td>\n",
              "      <td>...</td>\n",
              "      <td>...</td>\n",
              "      <td>...</td>\n",
              "      <td>...</td>\n",
              "      <td>...</td>\n",
              "      <td>...</td>\n",
              "      <td>...</td>\n",
              "      <td>...</td>\n",
              "      <td>...</td>\n",
              "    </tr>\n",
              "    <tr>\n",
              "      <th>895</th>\n",
              "      <td>4</td>\n",
              "      <td>4</td>\n",
              "      <td>5</td>\n",
              "      <td>5</td>\n",
              "      <td>4</td>\n",
              "      <td>3</td>\n",
              "      <td>6</td>\n",
              "      <td>4</td>\n",
              "      <td>7</td>\n",
              "      <td>5</td>\n",
              "      <td>2</td>\n",
              "    </tr>\n",
              "    <tr>\n",
              "      <th>896</th>\n",
              "      <td>4</td>\n",
              "      <td>3</td>\n",
              "      <td>4</td>\n",
              "      <td>4</td>\n",
              "      <td>4</td>\n",
              "      <td>4</td>\n",
              "      <td>4</td>\n",
              "      <td>5</td>\n",
              "      <td>4</td>\n",
              "      <td>4</td>\n",
              "      <td>2</td>\n",
              "    </tr>\n",
              "    <tr>\n",
              "      <th>897</th>\n",
              "      <td>3</td>\n",
              "      <td>5</td>\n",
              "      <td>6</td>\n",
              "      <td>5</td>\n",
              "      <td>4</td>\n",
              "      <td>3</td>\n",
              "      <td>6</td>\n",
              "      <td>6</td>\n",
              "      <td>4</td>\n",
              "      <td>4</td>\n",
              "      <td>2</td>\n",
              "    </tr>\n",
              "    <tr>\n",
              "      <th>898</th>\n",
              "      <td>6</td>\n",
              "      <td>5</td>\n",
              "      <td>4</td>\n",
              "      <td>5</td>\n",
              "      <td>4</td>\n",
              "      <td>7</td>\n",
              "      <td>5</td>\n",
              "      <td>6</td>\n",
              "      <td>5</td>\n",
              "      <td>4</td>\n",
              "      <td>2</td>\n",
              "    </tr>\n",
              "    <tr>\n",
              "      <th>899</th>\n",
              "      <td>4</td>\n",
              "      <td>4</td>\n",
              "      <td>3</td>\n",
              "      <td>5</td>\n",
              "      <td>3</td>\n",
              "      <td>5</td>\n",
              "      <td>4</td>\n",
              "      <td>5</td>\n",
              "      <td>4</td>\n",
              "      <td>6</td>\n",
              "      <td>2</td>\n",
              "    </tr>\n",
              "  </tbody>\n",
              "</table>\n",
              "<p>900 rows × 11 columns</p>\n",
              "</div>"
            ],
            "text/plain": [
              "    game_1 game_2 game_3 game_4 game_5  ... game_7 game_8 game_9 game_10 label\n",
              "0        0      0      0      0      0  ...      0      0      1       0     0\n",
              "1        0      1      0      0      0  ...      1      0      0       0     0\n",
              "2        3      1      0      0      0  ...      0      0      1       0     0\n",
              "3        0      1      0      0      0  ...      0      0      0       0     0\n",
              "4        0      1      0      1      0  ...      0      0      0       1     0\n",
              "..     ...    ...    ...    ...    ...  ...    ...    ...    ...     ...   ...\n",
              "895      4      4      5      5      4  ...      6      4      7       5     2\n",
              "896      4      3      4      4      4  ...      4      5      4       4     2\n",
              "897      3      5      6      5      4  ...      6      6      4       4     2\n",
              "898      6      5      4      5      4  ...      5      6      5       4     2\n",
              "899      4      4      3      5      3  ...      4      5      4       6     2\n",
              "\n",
              "[900 rows x 11 columns]"
            ]
          },
          "metadata": {
            "tags": []
          }
        }
      ]
    },
    {
      "cell_type": "markdown",
      "metadata": {
        "id": "c61nLn4p8TvU",
        "colab_type": "text"
      },
      "source": [
        "# PCA part"
      ]
    },
    {
      "cell_type": "markdown",
      "metadata": {
        "id": "_acszBXkOdGx",
        "colab_type": "text"
      },
      "source": [
        "apply PCA to 2 dimentions "
      ]
    },
    {
      "cell_type": "code",
      "metadata": {
        "id": "HitrkkLG8oH8",
        "colab_type": "code",
        "colab": {}
      },
      "source": [
        "pca = PCA(n_components=2)\n",
        "X_pca = pca.fit_transform(X)\n",
        "pca_df = pd.DataFrame(columns=['C1', 'C2'],\n",
        "                      data=X_pca\n",
        "                      )\n",
        "pca_df['label'] = y\n"
      ],
      "execution_count": 8,
      "outputs": []
    },
    {
      "cell_type": "markdown",
      "metadata": {
        "id": "GXjqhWqsOjrJ",
        "colab_type": "text"
      },
      "source": [
        "Visualize"
      ]
    },
    {
      "cell_type": "code",
      "metadata": {
        "id": "6nNLcTYEOirw",
        "colab_type": "code",
        "colab": {
          "base_uri": "https://localhost:8080/",
          "height": 523
        },
        "outputId": "2d2b9298-4240-4a48-9df7-5042a2f32092"
      },
      "source": [
        "fig = plt.figure(figsize=(8, 8))\n",
        "ax = fig.add_subplot(1, 1, 1)\n",
        "ax.set_xlabel('C1', fontsize=15)\n",
        "ax.set_ylabel('C2', fontsize=15)\n",
        "ax.set_title('2 component PCA', fontsize=20)\n",
        "targets = [0, 1, 2]\n",
        "colors = ['r', 'g', 'b']\n",
        "labels = {0: \"Below 3\", 1: \"Bingo\", 2: \"Above 3\", }\n",
        "for target, color in zip(targets, colors):\n",
        "    target_indices = pca_df['label'] == target\n",
        "    pca_df.loc[target_indices, 'C1']\n",
        "    pca_df.loc[target_indices, 'C2']\n",
        "    ax.scatter(pca_df.loc[target_indices, 'C1'],\n",
        "               pca_df.loc[target_indices, 'C2'],\n",
        "               c=color,\n",
        "               s=50,\n",
        "               label=labels[target],\n",
        "               )\n",
        "ax.legend()\n",
        "ax.grid()\n"
      ],
      "execution_count": 9,
      "outputs": [
        {
          "output_type": "display_data",
          "data": {
            "image/png": "[encoded data removed]",
            "text/plain": [
              "<Figure size 576x576 with 1 Axes>"
            ]
          },
          "metadata": {
            "tags": [],
            "needs_background": "light"
          }
        }
      ]
    },
    {
      "cell_type": "markdown",
      "metadata": {
        "id": "l8DfkRV0Bnvt",
        "colab_type": "text"
      },
      "source": [
        "The data AFTER PCA"
      ]
    },
    {
      "cell_type": "code",
      "metadata": {
        "id": "D_XDnb6lBp19",
        "colab_type": "code",
        "colab": {
          "base_uri": "https://localhost:8080/",
          "height": 406
        },
        "outputId": "1986e8af-2972-4bc5-da2c-b7bf861dcc4f"
      },
      "source": [
        "display(pca_df)\n"
      ],
      "execution_count": 10,
      "outputs": [
        {
          "output_type": "display_data",
          "data": {
            "text/html": [
              "<div>\n",
              "<style scoped>\n",
              "    .dataframe tbody tr th:only-of-type {\n",
              "        vertical-align: middle;\n",
              "    }\n",
              "\n",
              "    .dataframe tbody tr th {\n",
              "        vertical-align: top;\n",
              "    }\n",
              "\n",
              "    .dataframe thead th {\n",
              "        text-align: right;\n",
              "    }\n",
              "</style>\n",
              "<table border=\"1\" class=\"dataframe\">\n",
              "  <thead>\n",
              "    <tr style=\"text-align: right;\">\n",
              "      <th></th>\n",
              "      <th>C1</th>\n",
              "      <th>C2</th>\n",
              "      <th>label</th>\n",
              "    </tr>\n",
              "  </thead>\n",
              "  <tbody>\n",
              "    <tr>\n",
              "      <th>0</th>\n",
              "      <td>-7.687738</td>\n",
              "      <td>-0.180866</td>\n",
              "      <td>0.0</td>\n",
              "    </tr>\n",
              "    <tr>\n",
              "      <th>1</th>\n",
              "      <td>-7.367986</td>\n",
              "      <td>-0.188411</td>\n",
              "      <td>0.0</td>\n",
              "    </tr>\n",
              "    <tr>\n",
              "      <th>2</th>\n",
              "      <td>-6.417739</td>\n",
              "      <td>1.898227</td>\n",
              "      <td>0.0</td>\n",
              "    </tr>\n",
              "    <tr>\n",
              "      <th>3</th>\n",
              "      <td>-7.692077</td>\n",
              "      <td>-0.176233</td>\n",
              "      <td>0.0</td>\n",
              "    </tr>\n",
              "    <tr>\n",
              "      <th>4</th>\n",
              "      <td>-7.051609</td>\n",
              "      <td>-0.042382</td>\n",
              "      <td>0.0</td>\n",
              "    </tr>\n",
              "    <tr>\n",
              "      <th>...</th>\n",
              "      <td>...</td>\n",
              "      <td>...</td>\n",
              "      <td>...</td>\n",
              "    </tr>\n",
              "    <tr>\n",
              "      <th>895</th>\n",
              "      <td>6.886345</td>\n",
              "      <td>-0.704426</td>\n",
              "      <td>2.0</td>\n",
              "    </tr>\n",
              "    <tr>\n",
              "      <th>896</th>\n",
              "      <td>4.648518</td>\n",
              "      <td>-0.041102</td>\n",
              "      <td>2.0</td>\n",
              "    </tr>\n",
              "    <tr>\n",
              "      <th>897</th>\n",
              "      <td>6.559419</td>\n",
              "      <td>-1.992514</td>\n",
              "      <td>2.0</td>\n",
              "    </tr>\n",
              "    <tr>\n",
              "      <th>898</th>\n",
              "      <td>8.123281</td>\n",
              "      <td>0.285281</td>\n",
              "      <td>2.0</td>\n",
              "    </tr>\n",
              "    <tr>\n",
              "      <th>899</th>\n",
              "      <td>5.616627</td>\n",
              "      <td>-0.062737</td>\n",
              "      <td>2.0</td>\n",
              "    </tr>\n",
              "  </tbody>\n",
              "</table>\n",
              "<p>900 rows × 3 columns</p>\n",
              "</div>"
            ],
            "text/plain": [
              "           C1        C2  label\n",
              "0   -7.687738 -0.180866    0.0\n",
              "1   -7.367986 -0.188411    0.0\n",
              "2   -6.417739  1.898227    0.0\n",
              "3   -7.692077 -0.176233    0.0\n",
              "4   -7.051609 -0.042382    0.0\n",
              "..        ...       ...    ...\n",
              "895  6.886345 -0.704426    2.0\n",
              "896  4.648518 -0.041102    2.0\n",
              "897  6.559419 -1.992514    2.0\n",
              "898  8.123281  0.285281    2.0\n",
              "899  5.616627 -0.062737    2.0\n",
              "\n",
              "[900 rows x 3 columns]"
            ]
          },
          "metadata": {
            "tags": []
          }
        }
      ]
    }
  ]
}