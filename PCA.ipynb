{
 "cells": [
  {
   "cell_type": "code",
   "execution_count": 1,
   "metadata": {
    "id": "hI9mUFH_zsGJ",
    "colab_type": "code",
    "colab": {}
   },
   "outputs": [],
   "source": [
    "import numpy as np\n",
    "import pandas as pd\n",
    "from sklearn.decomposition import PCA\n",
    "from matplotlib import pyplot\n",
    "from IPython.display import display\n",
    "import matplotlib.pyplot as plt\n",
    "%matplotlib inline"
   ]
  },
  {
   "cell_type": "markdown",
   "metadata": {
    "id": "ycLiYmdgH-Xh",
    "colab_type": "text"
   },
   "source": [
    "# Data gathering"
   ]
  },
  {
   "cell_type": "markdown",
   "metadata": {
    "id": "F7iaCRpZ1SM1",
    "colab_type": "text"
   },
   "source": [
    "parameters for a random dataset. \n",
    "\n",
    "This dataset will have 10 features per sample and 3 different classes. \\\n",
    "\n",
    "\n",
    "---\n",
    "\n",
    "Each Class has a label between 0-2 and 10 features. \n",
    "\n",
    "Each feature, is a random number drawn from a certain normal distribution which is fixed for each class, and rounded to an integer between 0-10.\n",
    "\n",
    "1.   \"P_below\", label=0, normal dist = (below_center, below_std)\n",
    "2.   \"P_bingo\", label=1, normal dist = (3, bingo_std)\n",
    "3.   \"P_below\", label=2, normal dist = (above_center, above_std)\n",
    "\n"
   ]
  },
  {
   "cell_type": "markdown",
   "metadata": {
    "id": "Rd_T_et9MvsM",
    "colab_type": "text"
   },
   "source": [
    "class parameters"
   ]
  },
  {
   "cell_type": "code",
   "execution_count": 32,
   "metadata": {
    "id": "7faT_ufRNYqr",
    "colab_type": "code",
    "colab": {}
   },
   "outputs": [],
   "source": [
    "sample_per_class = 300\n",
    "features = 10"
   ]
  },
  {
   "cell_type": "code",
   "execution_count": 33,
   "metadata": {
    "id": "blQiiDhO_ovN",
    "colab_type": "code",
    "colab": {}
   },
   "outputs": [],
   "source": [
    "below_center = 0 #@param {type:\"slider\", min:0, max:2, step:1}\n",
    "below_std = 2 #@param {type:\"slider\", min:0, max:5, step:1}"
   ]
  },
  {
   "cell_type": "code",
   "execution_count": 34,
   "metadata": {
    "id": "RMH4UGht_nm3",
    "colab_type": "code",
    "colab": {}
   },
   "outputs": [],
   "source": [
    "bingo_center = 4\n",
    "bingo_std = 2 #@param {type:\"slider\", min:0, max:5, step:1}"
   ]
  },
  {
   "cell_type": "code",
   "execution_count": 35,
   "metadata": {
    "id": "NWWETLFG_mE1",
    "colab_type": "code",
    "colab": {}
   },
   "outputs": [],
   "source": [
    "above_center = 6 #@param {type:\"slider\", min:4, max:10, step:1}\n",
    "above_std = 5   #@param {type:\"slider\", min:0, max:5, step:1}"
   ]
  },
  {
   "cell_type": "markdown",
   "metadata": {
    "id": "xlTE_vZX_zY7",
    "colab_type": "text"
   },
   "source": [
    "data generation"
   ]
  },
  {
   "cell_type": "code",
   "execution_count": 36,
   "metadata": {
    "id": "LZBANU7Rz8JF",
    "colab_type": "code",
    "colab": {}
   },
   "outputs": [],
   "source": [
    "p_below = np.clip(np.random.normal(loc=below_std,scale=below_std,size=(sample_per_class,features)).astype(int),a_min=0,a_max=8)\n",
    "p_bingo = np.clip(np.random.normal(loc=bingo_center,scale=bingo_std,size=(sample_per_class,features)).astype(int),a_min=0,a_max=8)\n",
    "p_above = np.clip(np.random.normal(loc=above_center,scale=above_std,size=(sample_per_class,features)).astype(int),a_min=0,a_max=8)\n",
    "\n",
    "data_cols = [f'game_{idx + 1 }' for idx in range(features)]\n",
    "label_col = ['label']\n",
    "df = pd.DataFrame(index=range(sample_per_class * 3), columns= data_cols +label_col)\n",
    "df[data_cols] = np.concatenate([p_below,p_bingo,p_above])\n",
    "for idx_class in range(3):\n",
    "  start_idx = 300 * idx_class\n",
    "  end_idx = (300 * (idx_class + 1)) - 1\n",
    "  df.loc[start_idx:end_idx, label_col] = idx_class\n",
    "\n",
    "X = df[data_cols].to_numpy(dtype=float)\n",
    "y = df[label_col].to_numpy(dtype=float)"
   ]
  },
  {
   "cell_type": "markdown",
   "metadata": {
    "id": "8wwVKOfQBiBz",
    "colab_type": "text"
   },
   "source": [
    "A print of the data - BEFORE the PCA"
   ]
  },
  {
   "cell_type": "code",
   "execution_count": 37,
   "metadata": {
    "id": "fIRsc8_FBf-l",
    "colab_type": "code",
    "colab": {
     "base_uri": "https://localhost:8080/",
     "height": 406.0
    },
    "outputId": "c527a830-2d98-4140-b0eb-f746b4f7f1dc"
   },
   "outputs": [
    {
     "data": {
      "text/html": [
       "<div>\n",
       "<style scoped>\n",
       "    .dataframe tbody tr th:only-of-type {\n",
       "        vertical-align: middle;\n",
       "    }\n",
       "\n",
       "    .dataframe tbody tr th {\n",
       "        vertical-align: top;\n",
       "    }\n",
       "\n",
       "    .dataframe thead th {\n",
       "        text-align: right;\n",
       "    }\n",
       "</style>\n",
       "<table border=\"1\" class=\"dataframe\">\n",
       "  <thead>\n",
       "    <tr style=\"text-align: right;\">\n",
       "      <th></th>\n",
       "      <th>game_1</th>\n",
       "      <th>game_2</th>\n",
       "      <th>game_3</th>\n",
       "      <th>game_4</th>\n",
       "      <th>game_5</th>\n",
       "      <th>game_6</th>\n",
       "      <th>game_7</th>\n",
       "      <th>game_8</th>\n",
       "      <th>game_9</th>\n",
       "      <th>game_10</th>\n",
       "      <th>label</th>\n",
       "    </tr>\n",
       "  </thead>\n",
       "  <tbody>\n",
       "    <tr>\n",
       "      <th>0</th>\n",
       "      <td>2</td>\n",
       "      <td>2</td>\n",
       "      <td>2</td>\n",
       "      <td>4</td>\n",
       "      <td>2</td>\n",
       "      <td>2</td>\n",
       "      <td>3</td>\n",
       "      <td>2</td>\n",
       "      <td>2</td>\n",
       "      <td>1</td>\n",
       "      <td>0</td>\n",
       "    </tr>\n",
       "    <tr>\n",
       "      <th>1</th>\n",
       "      <td>4</td>\n",
       "      <td>2</td>\n",
       "      <td>1</td>\n",
       "      <td>2</td>\n",
       "      <td>1</td>\n",
       "      <td>1</td>\n",
       "      <td>1</td>\n",
       "      <td>0</td>\n",
       "      <td>0</td>\n",
       "      <td>1</td>\n",
       "      <td>0</td>\n",
       "    </tr>\n",
       "    <tr>\n",
       "      <th>2</th>\n",
       "      <td>1</td>\n",
       "      <td>1</td>\n",
       "      <td>1</td>\n",
       "      <td>2</td>\n",
       "      <td>1</td>\n",
       "      <td>0</td>\n",
       "      <td>1</td>\n",
       "      <td>1</td>\n",
       "      <td>0</td>\n",
       "      <td>6</td>\n",
       "      <td>0</td>\n",
       "    </tr>\n",
       "    <tr>\n",
       "      <th>3</th>\n",
       "      <td>0</td>\n",
       "      <td>1</td>\n",
       "      <td>3</td>\n",
       "      <td>4</td>\n",
       "      <td>4</td>\n",
       "      <td>4</td>\n",
       "      <td>1</td>\n",
       "      <td>0</td>\n",
       "      <td>1</td>\n",
       "      <td>0</td>\n",
       "      <td>0</td>\n",
       "    </tr>\n",
       "    <tr>\n",
       "      <th>4</th>\n",
       "      <td>3</td>\n",
       "      <td>0</td>\n",
       "      <td>1</td>\n",
       "      <td>1</td>\n",
       "      <td>4</td>\n",
       "      <td>1</td>\n",
       "      <td>0</td>\n",
       "      <td>0</td>\n",
       "      <td>0</td>\n",
       "      <td>3</td>\n",
       "      <td>0</td>\n",
       "    </tr>\n",
       "    <tr>\n",
       "      <th>...</th>\n",
       "      <td>...</td>\n",
       "      <td>...</td>\n",
       "      <td>...</td>\n",
       "      <td>...</td>\n",
       "      <td>...</td>\n",
       "      <td>...</td>\n",
       "      <td>...</td>\n",
       "      <td>...</td>\n",
       "      <td>...</td>\n",
       "      <td>...</td>\n",
       "      <td>...</td>\n",
       "    </tr>\n",
       "    <tr>\n",
       "      <th>895</th>\n",
       "      <td>8</td>\n",
       "      <td>3</td>\n",
       "      <td>5</td>\n",
       "      <td>7</td>\n",
       "      <td>1</td>\n",
       "      <td>3</td>\n",
       "      <td>4</td>\n",
       "      <td>7</td>\n",
       "      <td>4</td>\n",
       "      <td>1</td>\n",
       "      <td>2</td>\n",
       "    </tr>\n",
       "    <tr>\n",
       "      <th>896</th>\n",
       "      <td>2</td>\n",
       "      <td>0</td>\n",
       "      <td>8</td>\n",
       "      <td>5</td>\n",
       "      <td>5</td>\n",
       "      <td>8</td>\n",
       "      <td>6</td>\n",
       "      <td>1</td>\n",
       "      <td>8</td>\n",
       "      <td>6</td>\n",
       "      <td>2</td>\n",
       "    </tr>\n",
       "    <tr>\n",
       "      <th>897</th>\n",
       "      <td>3</td>\n",
       "      <td>8</td>\n",
       "      <td>3</td>\n",
       "      <td>8</td>\n",
       "      <td>6</td>\n",
       "      <td>0</td>\n",
       "      <td>3</td>\n",
       "      <td>5</td>\n",
       "      <td>8</td>\n",
       "      <td>2</td>\n",
       "      <td>2</td>\n",
       "    </tr>\n",
       "    <tr>\n",
       "      <th>898</th>\n",
       "      <td>7</td>\n",
       "      <td>8</td>\n",
       "      <td>8</td>\n",
       "      <td>8</td>\n",
       "      <td>3</td>\n",
       "      <td>6</td>\n",
       "      <td>6</td>\n",
       "      <td>7</td>\n",
       "      <td>2</td>\n",
       "      <td>6</td>\n",
       "      <td>2</td>\n",
       "    </tr>\n",
       "    <tr>\n",
       "      <th>899</th>\n",
       "      <td>0</td>\n",
       "      <td>5</td>\n",
       "      <td>8</td>\n",
       "      <td>0</td>\n",
       "      <td>1</td>\n",
       "      <td>3</td>\n",
       "      <td>4</td>\n",
       "      <td>2</td>\n",
       "      <td>2</td>\n",
       "      <td>8</td>\n",
       "      <td>2</td>\n",
       "    </tr>\n",
       "  </tbody>\n",
       "</table>\n",
       "<p>900 rows × 11 columns</p>\n",
       "</div>"
      ],
      "text/plain": [
       "    game_1 game_2 game_3 game_4 game_5  ... game_7 game_8 game_9 game_10 label\n",
       "0        2      2      2      4      2  ...      3      2      2       1     0\n",
       "1        4      2      1      2      1  ...      1      0      0       1     0\n",
       "2        1      1      1      2      1  ...      1      1      0       6     0\n",
       "3        0      1      3      4      4  ...      1      0      1       0     0\n",
       "4        3      0      1      1      4  ...      0      0      0       3     0\n",
       "..     ...    ...    ...    ...    ...  ...    ...    ...    ...     ...   ...\n",
       "895      8      3      5      7      1  ...      4      7      4       1     2\n",
       "896      2      0      8      5      5  ...      6      1      8       6     2\n",
       "897      3      8      3      8      6  ...      3      5      8       2     2\n",
       "898      7      8      8      8      3  ...      6      7      2       6     2\n",
       "899      0      5      8      0      1  ...      4      2      2       8     2\n",
       "\n",
       "[900 rows x 11 columns]"
      ]
     },
     "metadata": {
      "tags": []
     },
     "output_type": "execute_result"
    }
   ],
   "source": [
    "display(df)"
   ]
  },
  {
   "cell_type": "markdown",
   "metadata": {
    "id": "c61nLn4p8TvU",
    "colab_type": "text"
   },
   "source": [
    "# PCA part"
   ]
  },
  {
   "cell_type": "markdown",
   "metadata": {
    "id": "_acszBXkOdGx",
    "colab_type": "text"
   },
   "source": [
    "apply PCA to 2 dimentions "
   ]
  },
  {
   "cell_type": "code",
   "execution_count": 38,
   "metadata": {
    "id": "HitrkkLG8oH8",
    "colab_type": "code",
    "colab": {}
   },
   "outputs": [],
   "source": [
    "pca = PCA(n_components = 2) \n",
    "X_pca = pca.fit_transform(X)\n",
    "pca_df = pd.DataFrame(columns=['C1','C2'],\n",
    "                      data=X_pca\n",
    ")\n",
    "pca_df['label'] = y"
   ]
  },
  {
   "cell_type": "markdown",
   "metadata": {
    "id": "GXjqhWqsOjrJ",
    "colab_type": "text"
   },
   "source": [
    "Visualize"
   ]
  },
  {
   "cell_type": "code",
   "execution_count": 39,
   "metadata": {
    "id": "6nNLcTYEOirw",
    "colab_type": "code",
    "colab": {
     "base_uri": "https://localhost:8080/",
     "height": 523.0
    },
    "outputId": "bae84794-feca-4781-f8ba-83ba82ecf94a"
   },
   "outputs": [
    {
     "data": {
      "image/png": "[encoded data removed]",
      "text/plain": [
       "<Figure size 576x576 with 1 Axes>"
      ]
     },
     "metadata": {
      "tags": [],
      "needs_background": "light"
     },
     "output_type": "display_data"
    }
   ],
   "source": [
    "fig = plt.figure(figsize = (8,8))\n",
    "ax = fig.add_subplot(1,1,1) \n",
    "ax.set_xlabel('C1', fontsize = 15)\n",
    "ax.set_ylabel('C2', fontsize = 15)\n",
    "ax.set_title('2 component PCA', fontsize = 20)\n",
    "targets = [2, 1, 0]\n",
    "colors = ['r', 'g', 'b']\n",
    "for target, color in zip(targets,colors):\n",
    "    indicesToKeep = pca_df['label'] == target\n",
    "    pca_df.loc[indicesToKeep, 'C1']\n",
    "    pca_df.loc[indicesToKeep, 'C2']\n",
    "    ax.scatter(pca_df.loc[indicesToKeep, 'C1'],\n",
    "               pca_df.loc[indicesToKeep, 'C2'],\n",
    "               c= color,\n",
    "               s=50,\n",
    "    )\n",
    "ax.legend(targets)\n",
    "ax.grid()"
   ]
  },
  {
   "cell_type": "markdown",
   "metadata": {
    "id": "l8DfkRV0Bnvt",
    "colab_type": "text"
   },
   "source": [
    "The data AFTER PCA"
   ]
  },
  {
   "cell_type": "code",
   "execution_count": 40,
   "metadata": {
    "id": "D_XDnb6lBp19",
    "colab_type": "code",
    "colab": {
     "base_uri": "https://localhost:8080/",
     "height": 406.0
    },
    "outputId": "12f57e60-e50b-4e5f-cffc-776d740a1f13"
   },
   "outputs": [
    {
     "data": {
      "text/html": [
       "<div>\n",
       "<style scoped>\n",
       "    .dataframe tbody tr th:only-of-type {\n",
       "        vertical-align: middle;\n",
       "    }\n",
       "\n",
       "    .dataframe tbody tr th {\n",
       "        vertical-align: top;\n",
       "    }\n",
       "\n",
       "    .dataframe thead th {\n",
       "        text-align: right;\n",
       "    }\n",
       "</style>\n",
       "<table border=\"1\" class=\"dataframe\">\n",
       "  <thead>\n",
       "    <tr style=\"text-align: right;\">\n",
       "      <th></th>\n",
       "      <th>C1</th>\n",
       "      <th>C2</th>\n",
       "      <th>label</th>\n",
       "    </tr>\n",
       "  </thead>\n",
       "  <tbody>\n",
       "    <tr>\n",
       "      <th>0</th>\n",
       "      <td>-2.812393</td>\n",
       "      <td>1.013691</td>\n",
       "      <td>0.0</td>\n",
       "    </tr>\n",
       "    <tr>\n",
       "      <th>1</th>\n",
       "      <td>-5.663063</td>\n",
       "      <td>1.119087</td>\n",
       "      <td>0.0</td>\n",
       "    </tr>\n",
       "    <tr>\n",
       "      <th>2</th>\n",
       "      <td>-5.395236</td>\n",
       "      <td>1.027200</td>\n",
       "      <td>0.0</td>\n",
       "    </tr>\n",
       "    <tr>\n",
       "      <th>3</th>\n",
       "      <td>-4.039284</td>\n",
       "      <td>2.048637</td>\n",
       "      <td>0.0</td>\n",
       "    </tr>\n",
       "    <tr>\n",
       "      <th>4</th>\n",
       "      <td>-5.764258</td>\n",
       "      <td>1.157515</td>\n",
       "      <td>0.0</td>\n",
       "    </tr>\n",
       "    <tr>\n",
       "      <th>...</th>\n",
       "      <td>...</td>\n",
       "      <td>...</td>\n",
       "      <td>...</td>\n",
       "    </tr>\n",
       "    <tr>\n",
       "      <th>895</th>\n",
       "      <td>3.816590</td>\n",
       "      <td>-0.307818</td>\n",
       "      <td>2.0</td>\n",
       "    </tr>\n",
       "    <tr>\n",
       "      <th>896</th>\n",
       "      <td>5.687156</td>\n",
       "      <td>2.673794</td>\n",
       "      <td>2.0</td>\n",
       "    </tr>\n",
       "    <tr>\n",
       "      <th>897</th>\n",
       "      <td>4.672698</td>\n",
       "      <td>1.511264</td>\n",
       "      <td>2.0</td>\n",
       "    </tr>\n",
       "    <tr>\n",
       "      <th>898</th>\n",
       "      <td>9.665679</td>\n",
       "      <td>-0.646834</td>\n",
       "      <td>2.0</td>\n",
       "    </tr>\n",
       "    <tr>\n",
       "      <th>899</th>\n",
       "      <td>0.842201</td>\n",
       "      <td>-3.312584</td>\n",
       "      <td>2.0</td>\n",
       "    </tr>\n",
       "  </tbody>\n",
       "</table>\n",
       "<p>900 rows × 3 columns</p>\n",
       "</div>"
      ],
      "text/plain": [
       "           C1        C2  label\n",
       "0   -2.812393  1.013691    0.0\n",
       "1   -5.663063  1.119087    0.0\n",
       "2   -5.395236  1.027200    0.0\n",
       "3   -4.039284  2.048637    0.0\n",
       "4   -5.764258  1.157515    0.0\n",
       "..        ...       ...    ...\n",
       "895  3.816590 -0.307818    2.0\n",
       "896  5.687156  2.673794    2.0\n",
       "897  4.672698  1.511264    2.0\n",
       "898  9.665679 -0.646834    2.0\n",
       "899  0.842201 -3.312584    2.0\n",
       "\n",
       "[900 rows x 3 columns]"
      ]
     },
     "metadata": {
      "tags": []
     },
     "output_type": "execute_result"
    }
   ],
   "source": [
    "display(pca_df)"
   ]
  }
 ],
 "metadata": {
  "colab": {
   "name": "PCA.ipynb",
   "provenance": [],
   "collapsed_sections": [],
   "toc_visible": true
  },
  "kernelspec": {
   "name": "python3",
   "display_name": "Python 3"
  }
 },
 "nbformat": 4,
 "nbformat_minor": 0
}
